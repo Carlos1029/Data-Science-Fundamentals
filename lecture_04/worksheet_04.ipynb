{
 "cells": [
  {
   "attachments": {},
   "cell_type": "markdown",
   "metadata": {},
   "source": [
    "# Worksheet 04\n",
    "\n",
    "Name:  Carlos Contreras\n",
    "UID:  U63425893\n",
    "\n",
    "### Topics\n",
    "\n",
    "- Distance & Similarity"
   ]
  },
  {
   "cell_type": "markdown",
   "metadata": {},
   "source": [
    "### Distance & Similarity\n",
    "\n",
    "#### Part 1\n",
    "\n",
    "a) In the minkowski distance, describe what the parameters p and d are."
   ]
  },
  {
   "cell_type": "markdown",
   "metadata": {},
   "source": [
    "d refers to the dimension space of a point. \n",
    "p is a parameter used to set a specific type of Distnace calculation. A p of 2 is a Euclidean Distance and a P of 1 is a Manhattan distance. "
   ]
  },
  {
   "cell_type": "markdown",
   "metadata": {},
   "source": [
    "b) In your own words describe the difference between the Euclidean distance and the Manhattan distance."
   ]
  },
  {
   "cell_type": "markdown",
   "metadata": {},
   "source": [
    "EUCLIDEAN DISTANCE: The Euclidean Distance calculates distance between two points with a single line that can be diagonal \n",
    "\n",
    "Manhattan DISTANCE: Manhattan Distance Uses only straight lines (horizontal and Vertical) when estimating the distance between two points. In turn, the manhattan distance is equal to or bigger than the EUCLIDEAN DISTANCE. \n"
   ]
  },
  {
   "attachments": {},
   "cell_type": "markdown",
   "metadata": {},
   "source": [
    "Consider A = (0, 0) and B = (1, 1). When:\n",
    "\n",
    "- p = 1, d(A, B) = 2\n",
    "- p = 2, d(A, B) = $\\sqrt{2} = 1.41$\n",
    "- p = 3, d(A, B) = $2^{1/3} = 1.26$\n",
    "- p = 4, d(A, B) = $2^{1/4} = 1.19$\n",
    "\n",
    "c) Describe what you think distance would look like when p is very large."
   ]
  },
  {
   "cell_type": "markdown",
   "metadata": {},
   "source": [
    "As P increases the Distance between A and B will aproach 1. This is because distance follows the general form of 2^(1/p). So when P is very large, the result will aproach 1, but the distance wont fall below it since that would result in a number that multiplied by itself gets smaller. "
   ]
  },
  {
   "cell_type": "markdown",
   "metadata": {},
   "source": [
    "d) Is the minkowski distance still a distance function when p < 1? Expain why / why not."
   ]
  },
  {
   "cell_type": "markdown",
   "metadata": {},
   "source": [
    "No. This is because a value where 0 < p < 1 violates triangle inequality which is necessary for a function to be distance function"
   ]
  },
  {
   "cell_type": "markdown",
   "metadata": {},
   "source": [
    "e) when would you use cosine similarity over the euclidan distance?"
   ]
  },
  {
   "cell_type": "markdown",
   "metadata": {},
   "source": [
    "Whenever i believe that the direction similarity between two points is more important than the magnitude similarity. A Cosine similarity can be very useful when working with similar documents but with different sizes as these would move on the same direction. The cosine similarity would capture this similarity but a euclidean distance might attribute more dissimilarity because of the large size difference."
   ]
  },
  {
   "cell_type": "markdown",
   "metadata": {},
   "source": [
    "f) what does the jaccard distance account for that the manhattan distance doesn't?"
   ]
  },
  {
   "cell_type": "markdown",
   "metadata": {},
   "source": [
    "The jaccard distance accounts for the size of the intersection between two points by grabbing the manhattan distance and dividing it by the the size of the intersection to get a percentage return between 0 and 1. This is a very useful metric when comparing two documents.  "
   ]
  },
  {
   "attachments": {},
   "cell_type": "markdown",
   "metadata": {},
   "source": [
    "#### Part 2\n",
    "\n",
    "Consider the following two sentences:"
   ]
  },
  {
   "cell_type": "code",
   "execution_count": 3,
   "metadata": {},
   "outputs": [],
   "source": [
    "s1 = \"hello my name is Alice\"  \n",
    "s2 = \"hello my name is Bob\""
   ]
  },
  {
   "cell_type": "markdown",
   "metadata": {},
   "source": [
    "using the union of words from both sentences, we can represent each sentence as a vector. Each element of the vector represents the presence or absence of the word at that index.\n",
    "\n",
    "In this example, the union of words is (\"hello\", \"my\", \"name\", \"is\", \"Alice\", \"Bob\") so we can represent the above sentences as such:"
   ]
  },
  {
   "cell_type": "code",
   "execution_count": 2,
   "metadata": {},
   "outputs": [],
   "source": [
    "v1 = [1,    1, 1,   1, 1,    0]\n",
    "#     hello my name is Alice\n",
    "v2 = [1,    1, 1,   1, 0, 1]\n",
    "#     hello my name is    Bob"
   ]
  },
  {
   "attachments": {},
   "cell_type": "markdown",
   "metadata": {},
   "source": [
    "Programmatically, we can do the following:"
   ]
  },
  {
   "cell_type": "code",
   "execution_count": 9,
   "metadata": {},
   "outputs": [
    {
     "name": "stdout",
     "output_type": "stream",
     "text": [
      "['Alice', 'my', 'Bob', 'hello', 'name', 'is']\n",
      "[1, 1, 0, 1, 1, 1]\n"
     ]
    }
   ],
   "source": [
    "corpus = [s1, s2]\n",
    "all_words = list(set([item for x in corpus for item in x.split()]))\n",
    "print(all_words)\n",
    "v1 = [1 if x in s1 else 0 for x in all_words]\n",
    "print(v1)"
   ]
  },
  {
   "cell_type": "markdown",
   "metadata": {},
   "source": [
    "Let's add a new sentence to our corpus:"
   ]
  },
  {
   "cell_type": "code",
   "execution_count": 11,
   "metadata": {},
   "outputs": [],
   "source": [
    "s3 = \"hi my name is Claude\"\n",
    "corpus.append(s3)"
   ]
  },
  {
   "cell_type": "markdown",
   "metadata": {},
   "source": [
    "a) What is the new union of words used to represent s1, s2, and s3?"
   ]
  },
  {
   "cell_type": "code",
   "execution_count": 12,
   "metadata": {},
   "outputs": [
    {
     "name": "stdout",
     "output_type": "stream",
     "text": [
      "['Alice', 'hi', 'Claude', 'my', 'Bob', 'hello', 'name', 'is']\n"
     ]
    }
   ],
   "source": [
    "# Union would be :  (\"hello\", \"hi\", \"my\", \"name\", \"is\", \"Alice\", \"Bob\", \"Claude\")\n",
    "\n",
    "all_words = list(set([item for x in corpus for item in x.split()]))\n",
    "print(all_words) "
   ]
  },
  {
   "attachments": {},
   "cell_type": "markdown",
   "metadata": {},
   "source": [
    "b) Represent s1, s2, and s3 as vectors as above, using this new set of words."
   ]
  },
  {
   "cell_type": "code",
   "execution_count": 15,
   "metadata": {},
   "outputs": [
    {
     "name": "stdout",
     "output_type": "stream",
     "text": [
      "[1, 0, 0, 1, 0, 1, 1, 1] [0, 0, 0, 1, 1, 1, 1, 1] [0, 1, 1, 1, 0, 0, 1, 1]\n"
     ]
    }
   ],
   "source": [
    "v1 = [1 if x in s1 else 0 for x in all_words]\n",
    "v2 = [1 if x in s2 else 0 for x in all_words]\n",
    "v3 = [1 if x in s3 else 0 for x in all_words]\n",
    "\n",
    "print(v1,v2,v3)"
   ]
  },
  {
   "cell_type": "markdown",
   "metadata": {},
   "source": [
    "c) Write a function that computes the manhattan distance between two vectors. Which pair of vectors are the most similar under that distance function?"
   ]
  },
  {
   "cell_type": "code",
   "execution_count": 40,
   "metadata": {},
   "outputs": [
    {
     "name": "stdout",
     "output_type": "stream",
     "text": [
      "manhattan distance between s1 and s2 is:  2.0\n",
      "manhattan distance between s1 and s3 is:  4.0\n",
      "manhattan distance between s2 and s3 is:  4.0\n"
     ]
    }
   ],
   "source": [
    "def minkowski(x,y,p):\n",
    "    if len(x) != len(y):\n",
    "        raise RuntimeError(\"x and y should be of same dimension\")\n",
    "    res = 0 \n",
    "    for i in range(len(x)):\n",
    "        res += abs(x[i] - y[i]) ** p \n",
    "    return res ** (1/p)\n",
    "\n",
    "# Testing similarities between vectors \n",
    "\n",
    "print(\"manhattan distance between s1 and s2 is: \", minkowski(v1, v2, 1))\n",
    "print(\"manhattan distance between s1 and s3 is: \", minkowski(v1, v3, 1))\n",
    "print(\"manhattan distance between s2 and s3 is: \", minkowski(v2, v3, 1))\n",
    "\n"
   ]
  },
  {
   "cell_type": "markdown",
   "metadata": {},
   "source": [
    "Based on tests shown above, vector 1 and vector 2 are the most similar with a score of 2. this makes sense since their respective sentences only differ by one word whereas vector 3 has 2 words with different values when compared to v1 and v2. "
   ]
  },
  {
   "cell_type": "markdown",
   "metadata": {},
   "source": [
    "d) Create a matrix of all these vectors (row major) and add the following sentences in vector form:\n",
    "\n",
    "- \"hi Alice\"\n",
    "- \"hello Claude\"\n",
    "- \"Bob my name is Claude\"\n",
    "- \"hi Claude my name is Alice\"\n",
    "- \"hello Bob\""
   ]
  },
  {
   "cell_type": "code",
   "execution_count": 35,
   "metadata": {},
   "outputs": [
    {
     "name": "stdout",
     "output_type": "stream",
     "text": [
      "['Alice', 'hi', 'Claude', 'my', 'Bob', 'hello', 'name', 'is']\n",
      "[1, 0, 0, 1, 0, 1, 1, 1]\n",
      "[0, 0, 0, 1, 1, 1, 1, 1]\n",
      "[0, 1, 1, 1, 0, 0, 1, 1]\n",
      "[1, 1, 0, 0, 0, 0, 0, 0]\n",
      "[0, 0, 1, 0, 0, 1, 0, 0]\n",
      "[0, 0, 1, 1, 1, 0, 1, 1]\n",
      "[1, 1, 1, 1, 0, 0, 1, 1]\n",
      "[0, 0, 0, 0, 1, 1, 0, 0]\n"
     ]
    }
   ],
   "source": [
    "s4= \"hi Alice\"\n",
    "s5 = \"hello Claude\"\n",
    "s6 = \"Bob my name is Claude\"\n",
    "s7 = \"hi Claude my name is Alice\"\n",
    "s8 = \"hello Bob\"\n",
    "\n",
    "corpus.append(s4)\n",
    "corpus.append(s5)\n",
    "corpus.append(s6)\n",
    "corpus.append(s7)\n",
    "corpus.append(s8)\n",
    "all_words = list(set([item for x in corpus for item in x.split()]))\n",
    "\n",
    "v1 = [1 if x in s1 else 0 for x in all_words]\n",
    "v2 = [1 if x in s2 else 0 for x in all_words]\n",
    "v3 = [1 if x in s3 else 0 for x in all_words]\n",
    "v4 = [1 if x in s4 else 0 for x in all_words]\n",
    "v5 = [1 if x in s5 else 0 for x in all_words]\n",
    "v6 = [1 if x in s6 else 0 for x in all_words]\n",
    "v7 = [1 if x in s7 else 0 for x in all_words]\n",
    "v8 = [1 if x in s8 else 0 for x in all_words]\n",
    "\n",
    "print(all_words)\n",
    "\n",
    "HelloMatrix = [v1,v2,v3,v4,v5,v6,v7,v8]\n",
    "for line in HelloMatrix:\n",
    "    print(line)\n",
    "\n",
    "\n"
   ]
  },
  {
   "cell_type": "markdown",
   "metadata": {},
   "source": [
    "e) How many rows and columns does this matrix have?"
   ]
  },
  {
   "cell_type": "markdown",
   "metadata": {},
   "source": [
    "This Matrix has 8 columns and 8 rows. This is because we have 8 unique words (['Alice', 'hi', 'Claude', 'my', 'Bob', 'hello', 'name', 'is']) for columns and we also have 8 vectors (the sentences). "
   ]
  },
  {
   "attachments": {},
   "cell_type": "markdown",
   "metadata": {},
   "source": [
    "f) When using the Manhattan distance, which two sentences are the most similar?"
   ]
  },
  {
   "cell_type": "code",
   "execution_count": null,
   "metadata": {},
   "outputs": [],
   "source": [
    "# Calculating Manhattan Distances between vectors in the Word Matrix\n",
    "print(\"manhattan distance between s1 and s2 is: \", minkowski(v1, v2, 1))\n",
    "print(\"manhattan distance between s1 and s3 is: \", minkowski(v1, v3, 1))\n",
    "print(\"manhattan distance between s1 and s4 is: \", minkowski(v1, v4, 1))\n",
    "print(\"manhattan distance between s1 and s5 is: \", minkowski(v1, v5, 1))\n",
    "print(\"manhattan distance between s1 and s6 is: \", minkowski(v1, v6, 1))\n",
    "print(\"manhattan distance between s1 and s7 is: \", minkowski(v1, v7, 1))\n",
    "print(\"manhattan distance between s1 and s8 is: \", minkowski(v1, v8, 1), \"\\n\")\n",
    "\n",
    "print(\"manhattan distance between s2 and s3 is: \", minkowski(v2, v3, 1))\n",
    "print(\"manhattan distance between s2 and s4 is: \", minkowski(v2, v4, 1))\n",
    "print(\"manhattan distance between s2 and s5 is: \", minkowski(v2, v5, 1))\n",
    "print(\"manhattan distance between s2 and s6 is: \", minkowski(v2, v6, 1))\n",
    "print(\"manhattan distance between s2 and s7 is: \", minkowski(v2, v7, 1))\n",
    "print(\"manhattan distance between s2 and s8 is: \", minkowski(v2, v8, 1), \"\\n\")\n",
    "\n",
    "print(\"manhattan distance between s3 and s4 is: \", minkowski(v3, v4, 1))\n",
    "print(\"manhattan distance between s3 and s5 is: \", minkowski(v3, v5, 1))\n",
    "print(\"manhattan distance between s3 and s6 is: \", minkowski(v3, v6, 1))\n",
    "print(\"manhattan distance between s3 and s7 is: \", minkowski(v3, v7, 1))\n",
    "print(\"manhattan distance between s3 and s8 is: \", minkowski(v3, v8, 1), \"\\n\")\n",
    "\n",
    "print(\"manhattan distance between s4 and s5 is: \", minkowski(v4, v5, 1))\n",
    "print(\"manhattan distance between s4 and s6 is: \", minkowski(v4, v6, 1))\n",
    "print(\"manhattan distance between s4 and s7 is: \", minkowski(v4, v7, 1))\n",
    "print(\"manhattan distance between s4 and s8 is: \", minkowski(v4, v8, 1), \"\\n\")\n",
    "\n",
    "print(\"manhattan distance between s5 and s6 is: \", minkowski(v5, v6, 1))\n",
    "print(\"manhattan distance between s5 and s7 is: \", minkowski(v5, v7, 1))\n",
    "print(\"manhattan distance between s5 and s8 is: \", minkowski(v5, v8, 1), \"\\n\")\n",
    "\n",
    "print(\"manhattan distance between s6 and s7 is: \", minkowski(v6, v7, 1))\n",
    "print(\"manhattan distance between s6 and s8 is: \", minkowski(v6, v8, 1), \"\\n\")\n",
    "\n",
    "print(\"manhattan distance between s7 and s8 is: \", minkowski(v7, v8, 1))\n"
   ]
  },
  {
   "cell_type": "markdown",
   "metadata": {},
   "source": [
    "Based on test results, sentence 3 and sentece 7 are the most similar with a Manhattan Score of 1. This is because sentence 7 \"hi Claude my name is Alice\" has all the words of sentence 3 \"hi my name is Claude\" in it. The slight difference comes from sentence 7 having an additional word \"Alice\" which results in a Mnahattan score of 1."
   ]
  },
  {
   "cell_type": "markdown",
   "metadata": {},
   "source": [
    "#### Part 3 Challenge"
   ]
  },
  {
   "cell_type": "markdown",
   "metadata": {},
   "source": [
    "Given a set of graphs $\\mathcal{G}$, each graph $G \\in \\mathcal{G}$ is defined over the same set of nodes $V$. The graphs are represented by their adjacency matrices, which are 2D arrays where each element indicates whether a pair of nodes is connected by an edge.\n",
    "\n",
    "Your task is to compute the pairwise distances between these graphs based on a specific distance metric. The distance $d(G, G')$ between two graphs $G = (V, E)$ and $G' = (V, E')$ is defined as the sum of the number of edges in $G$ but not in $G'$, and the number of edges in $G'$ but not in $G$. Mathematically, this can be expressed as:\n",
    "\n",
    "$$\n",
    "d(G, G') = |E \\setminus E'| + |E' \\setminus E|.\n",
    "$$\n",
    "\n",
    "##### Requirements:\n",
    "1. **Input**: Should take a list of 2D numpy arrays as input. Each array represents the adjacency matrix of a graph.\n",
    "\n",
    "2. **Output**: Should output a pairwise distance matrix. If there are $n$ graphs in the input list, the output should be an $n \\times n$ matrix where the entry at position $(i, j)$ represents the distance between the $i^{th}$ and $j^{th}$ graph."
   ]
  }
 ],
 "metadata": {
  "kernelspec": {
   "display_name": "Python 3",
   "language": "python",
   "name": "python3"
  },
  "language_info": {
   "codemirror_mode": {
    "name": "ipython",
    "version": 3
   },
   "file_extension": ".py",
   "mimetype": "text/x-python",
   "name": "python",
   "nbconvert_exporter": "python",
   "pygments_lexer": "ipython3",
   "version": "3.11.5"
  },
  "orig_nbformat": 4,
  "vscode": {
   "interpreter": {
    "hash": "76ca05dc3ea24b2e3b98cdb7774adfbb40773424bf5109b477fd793f623715af"
   }
  }
 },
 "nbformat": 4,
 "nbformat_minor": 2
}
